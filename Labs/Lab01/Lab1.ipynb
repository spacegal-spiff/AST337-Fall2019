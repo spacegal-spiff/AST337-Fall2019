{
 "cells": [
  {
   "cell_type": "markdown",
   "metadata": {},
   "source": [
    "# AST 337 In-Class Lab #1 \n",
    "### Wednesday, September 5, 2018\n",
    "\n",
    "## Names:\n",
    "____"
   ]
  },
  {
   "cell_type": "markdown",
   "metadata": {},
   "source": [
    "In this lab, you'll learn to read in and manipulate tabular data with a python package called _pandas_ and plot that data with the plotting module _matplotlib.pyplot_. \n",
    "\n",
    "On the science end, you will compare H-R diagrams for two different open star clusters, a globular cluster, and a  population of field (non-cluster) stars."
   ]
  },
  {
   "cell_type": "code",
   "execution_count": null,
   "metadata": {
    "collapsed": true
   },
   "outputs": [],
   "source": [
    "# First, import (load) packages we'll need to use, and give them shortcut names for easy use later on: \n",
    "\n",
    "import pandas as pd # Pandas is a software library for working with data tables\n",
    "import numpy as np # Numerical Python (numpy) allows us to work with arrays and matrices\n",
    "import matplotlib.pyplot as plt # matplotlib is Python's main plotting library\n",
    "\n",
    "# The following is necessary to show the plots we make inside the notebook (i.e., inline = not separate windows)\n",
    "%matplotlib inline "
   ]
  },
  {
   "cell_type": "markdown",
   "metadata": {},
   "source": [
    "In the current directory, there are files of astronomical measurements for various clusters of stars. We want to be able to manipulate and use datafiles within python, and so we'll need to read in the data. Here, we will use the pandas function *read_csv*. A basic example is given below:"
   ]
  },
  {
   "cell_type": "code",
   "execution_count": null,
   "metadata": {
    "collapsed": true
   },
   "outputs": [],
   "source": [
    "pleiades = pd.read_csv('pleiades.csv')"
   ]
  },
  {
   "cell_type": "markdown",
   "metadata": {},
   "source": [
    "\"pleiades\" is now a pandas dataframe object, which is essentially a form of python table. To see what's stored in pleiades, execute the cell below. Anywhere you see ..., that means that there are a number of additional columns or rows that have been hidden. "
   ]
  },
  {
   "cell_type": "code",
   "execution_count": null,
   "metadata": {},
   "outputs": [],
   "source": [
    "pleiades"
   ]
  },
  {
   "cell_type": "markdown",
   "metadata": {},
   "source": [
    "<div class=\"alert alert-block alert-info\">\n",
    "<b>Tip: Viewing Data Files</b> <p>\n",
    "\n",
    "If you want to view a raw data file directly, you can view the CSV (comma-separated value) file in the Jupyter environment. Try going to the home directory (which lists all of the .ipynb files and .csv files) and click the checkbox to the left of \"Pleiades.csv\". Then click the Edit button at the top of the screen. A new tab should open in your browser that looks like the following:\n",
    "\n",
    "<img src=\"data.png\" alt=\"Alt text that describes the graphic\" title=\"Title text\" />\n",
    "\n",
    "</div>"
   ]
  },
  {
   "cell_type": "markdown",
   "metadata": {},
   "source": [
    "Perhaps more useful are the pandas .columns and .dtypes methods. Execute the cells below and then edit the descriptions of what each does in the cell below (double click on this text to get into the markdown cell, where you can type regular text)\n",
    "\n",
    "**(1)** The .columns method does.... **[your answer]**\n",
    "\n",
    "**(2)** The .dtypes method does.... **[your answer]**"
   ]
  },
  {
   "cell_type": "code",
   "execution_count": null,
   "metadata": {},
   "outputs": [],
   "source": [
    "pleiades.columns"
   ]
  },
  {
   "cell_type": "code",
   "execution_count": null,
   "metadata": {},
   "outputs": [],
   "source": [
    "pleiades.dtypes"
   ]
  },
  {
   "cell_type": "markdown",
   "metadata": {},
   "source": [
    "The two columns that we care about for this lab are the Temperature (Teff) and the Luminosity (Lbol). The units for these two columns are Kelvin and Solar luminosities, respectively. As you will label these later in your plots, I'll note here that there's a special trick for getting the sun symbol in a Markdown cell using the typesetting system LaTeX. \n",
    "\n",
    "Solar Luminosities = L$_{\\odot}$\n",
    "\n",
    "Double click on this cell to see how I made the symbol above. \n",
    "\n",
    "Let's create a pandas series that we can manipulate from each of the columns of interest.  "
   ]
  },
  {
   "cell_type": "code",
   "execution_count": null,
   "metadata": {
    "collapsed": true
   },
   "outputs": [],
   "source": [
    "pleiades_L = pleiades[\"Lbol\"]\n",
    "pleiades_T = pleiades[\"Teff\"]"
   ]
  },
  {
   "cell_type": "markdown",
   "metadata": {},
   "source": [
    "Note though from your .dtypes output above that both of these columns have dtype \"object\", which is not a data type that will allow us to manipulate them. For example, try executing the cell below, where we attempt to subtract the value 2 from each entry in the \"pleiades_L\" column. \n",
    "\n",
    "**You should get an error...**"
   ]
  },
  {
   "cell_type": "code",
   "execution_count": null,
   "metadata": {
    "collapsed": true
   },
   "outputs": [],
   "source": [
    "pleiades_L = pleiades_L - 2"
   ]
  },
  {
   "cell_type": "markdown",
   "metadata": {},
   "source": [
    "<div class=\"alert alert-block alert-info\">\n",
    "<b>Tip: Reading Python Errors</b> <p>\n",
    "\n",
    "Error messages in Python are most easily read starting from the bottom. The bottom of this error states:<p>\n",
    "\n",
    "`TypeError: unsupported operand type(s) for -: 'str' and 'int'`<p>\n",
    "\n",
    "This is telling us that the object `pleiades_L` has a string format (str) while `2` is an integer format (int), and python cannot do arithmetic between strings and integers. (Like asking it to calculate 3.14 + 'hello' would similarly result in a TypeError between a float and a string.)<p>\n",
    "\n",
    "Our error message then traces back the error at each step, originating with our main issue at the top, telling us where we went wrong: <p>\n",
    "\n",
    "`----> 1 pleiades_L = pleiades_L - 2` <p>\n",
    "\n",
    "-> Whenever you encounter an error, always start reading from the bottom and then go up to the top where it pinpointed the original issue! \n",
    "\n",
    "</div>"
   ]
  },
  {
   "cell_type": "markdown",
   "metadata": {},
   "source": [
    "Therefore, we want to convert the type of these pandas series to be numeric, which we do with pandas.to_numeric, as below:"
   ]
  },
  {
   "cell_type": "code",
   "execution_count": null,
   "metadata": {
    "collapsed": true
   },
   "outputs": [],
   "source": [
    "pleiades_L_new = pd.to_numeric(pleiades_L, errors='coerce')\n",
    "pleiades_T_new = pd.to_numeric(pleiades_T, errors='coerce')\n",
    "\n",
    "# With \"coerce\", we are telling the to_numeric function to change any invalid entries to NaNs."
   ]
  },
  {
   "cell_type": "markdown",
   "metadata": {},
   "source": [
    "Now let's print the first ten elements of each array to verify that nothing weird happened during this conversion. "
   ]
  },
  {
   "cell_type": "code",
   "execution_count": null,
   "metadata": {},
   "outputs": [],
   "source": [
    "pleiades_L[0:10], pleiades_L_new[0:10], pleiades_T[0:10], pleiades_T_new[0:10]"
   ]
  },
  {
   "cell_type": "markdown",
   "metadata": {},
   "source": [
    "Now let's plot these two quantities against one another. There are many ways to plot in pyplot, but below is a simple version that often works most consistently and intuitively:"
   ]
  },
  {
   "cell_type": "code",
   "execution_count": null,
   "metadata": {},
   "outputs": [],
   "source": [
    "fig,ax = plt.subplots(figsize=(7,7))\n",
    "ax.plot(pleiades_T_new, pleiades_L_new)"
   ]
  },
  {
   "cell_type": "markdown",
   "metadata": {},
   "source": [
    "Yikes, that's ugly, right? That's because the default plot symbol is a line connecting all the points. In this case what we really want is a so-called scatterplot, which we can do easily by specifying the plotting marker right after the y variable, as below. Below I use 'o', which stands for the circle symbol. For the full list of matplotlib symbols, see [this link](https://matplotlib.org/api/markers_api.html)."
   ]
  },
  {
   "cell_type": "code",
   "execution_count": null,
   "metadata": {},
   "outputs": [],
   "source": [
    "fig,ax = plt.subplots(figsize=(7,7))\n",
    "ax.plot(pleiades_T_new, pleiades_L_new, 'o')"
   ]
  },
  {
   "cell_type": "markdown",
   "metadata": {},
   "source": [
    "Note the default plotting color is blue, but you can change this easily by adding a color shorthand before the marker shorthand. Below I use 'g' for green, but here again, there are lots of options, as outlined at [this link](https://matplotlib.org/api/colors_api.html).\n",
    "\n",
    "There is also a very large list of named colors, available here: [Matplotlib Named Colors](https://matplotlib.org/examples/color/named_colors.html)"
   ]
  },
  {
   "cell_type": "code",
   "execution_count": null,
   "metadata": {},
   "outputs": [],
   "source": [
    "fig,ax = plt.subplots(figsize=(7,7))\n",
    "ax.plot(pleiades_T_new, pleiades_L_new, 'go')"
   ]
  },
  {
   "cell_type": "markdown",
   "metadata": {},
   "source": [
    "Colors notwithstanding, this plot is still very ugly and should not look much like an H-R diagram to you. For one thing, H-R diagrams usually have log(Luminosity) on the y-axis. To change one of the axes to a log scale, do the following:"
   ]
  },
  {
   "cell_type": "code",
   "execution_count": null,
   "metadata": {},
   "outputs": [],
   "source": [
    "fig,ax = plt.subplots(figsize=(7,7))\n",
    "ax.plot(pleiades_T_new, pleiades_L_new, 'go')\n",
    "ax.set_yscale('log')"
   ]
  },
  {
   "cell_type": "markdown",
   "metadata": {},
   "source": [
    "OK that's much nicer, but should still look backwards to you, because we always draw H-R Diagrams with the Temperature axis running from high to low temperature. This is a pretty easy fix too -- note that we have simply set the X-axis limits from a large value to a small one."
   ]
  },
  {
   "cell_type": "code",
   "execution_count": null,
   "metadata": {},
   "outputs": [],
   "source": [
    "fig,ax = plt.subplots(figsize=(7,7))\n",
    "ax.plot(pleiades_T_new, pleiades_L_new, 'go')\n",
    "ax.set_yscale('log')\n",
    "ax.set_xlim(11000,1000)"
   ]
  },
  {
   "cell_type": "markdown",
   "metadata": {},
   "source": [
    "OK! This is starting to look like a good H-R diagram, but without a plot title or axis labels, it's still not very good, so let's add those. "
   ]
  },
  {
   "cell_type": "code",
   "execution_count": null,
   "metadata": {},
   "outputs": [],
   "source": [
    "fig,ax = plt.subplots(figsize=(7,7))\n",
    "ax.plot(pleiades_T_new, pleiades_L_new, 'go')\n",
    "ax.set_yscale('log')\n",
    "ax.set_xlim(11000,1000)\n",
    "plt.title('H-R Diagram for the Pleiades')\n",
    "plt.xlabel('Temperature (in K)')\n",
    "plt.ylabel('log[Luminosity (in L$_{\\odot}$)]')"
   ]
  },
  {
   "cell_type": "markdown",
   "metadata": {},
   "source": [
    "# Exercise 1\n",
    "\n",
    "Now it's time for you to do some exploring with the rest of the data. For each of the remaining four data files in the Lab 1 directory:   \n",
    "\n",
    "1) read in the data  \n",
    "\n",
    "2) find the columns for luminosity and temperature \n",
    "\n",
    "(note that some of the raw data has units of log(L) or log(T), which you'll have to \"undo\" to get the regular units of L and T. Refer to the Jupyter Refresher Exercise #1 if you can't remember how)\n",
    "\n",
    "3) assign the relevant columns to pandas series and convert data types to numeric as necessary   \n",
    "\n",
    "4) make a plot of the data with appropriate axis labels, ranges, a plot title, etc.    "
   ]
  },
  {
   "cell_type": "markdown",
   "metadata": {},
   "source": [
    "<div class=\"alert alert-block alert-warning\">\n",
    "<b>Important Note:</b> You always want to ensure that your plots depict an accurate representation of the data - so be sure to discuss with your partner how best to adjust the axes limits, how to show the full range of values, and/or ways to make the data most legible and clear to see (point symbol, size, etc). \n",
    "</div>"
   ]
  },
  {
   "cell_type": "code",
   "execution_count": null,
   "metadata": {
    "collapsed": true
   },
   "outputs": [],
   "source": [
    "## Add code here to read in the other three files in the Lab 1 directory, and give them descriptive variable names."
   ]
  },
  {
   "cell_type": "code",
   "execution_count": null,
   "metadata": {
    "collapsed": true
   },
   "outputs": [],
   "source": [
    "## Add code here to identify the column labels for luminosity and temperature. Be careful - columns may not have\n",
    "## the same names, and be sure to check the units of the quantities."
   ]
  },
  {
   "cell_type": "code",
   "execution_count": null,
   "metadata": {
    "collapsed": true
   },
   "outputs": [],
   "source": [
    "## Convert to pandas series and data types, if necessary."
   ]
  },
  {
   "cell_type": "code",
   "execution_count": null,
   "metadata": {
    "collapsed": true
   },
   "outputs": [],
   "source": [
    "## Plot the data in this cell and the following cells for each sample:\n",
    "## Hyades Plot"
   ]
  },
  {
   "cell_type": "code",
   "execution_count": null,
   "metadata": {
    "collapsed": true
   },
   "outputs": [],
   "source": [
    "## Field Plot"
   ]
  },
  {
   "cell_type": "code",
   "execution_count": null,
   "metadata": {
    "collapsed": true
   },
   "outputs": [],
   "source": [
    "## 47 Tuc Plot"
   ]
  },
  {
   "cell_type": "markdown",
   "metadata": {},
   "source": [
    "# Exercise 2 (Multi-Panel Plots)\n",
    "\n",
    "The individual plots for each of these clusters are nice, but really we'd like to be able to compare them side-by-side. You can do this by making either a multi-panel plot, or an overlapping plot. A skeleton outline of how to do each is below. Please use this as a framework to make similar plots with our data."
   ]
  },
  {
   "cell_type": "code",
   "execution_count": null,
   "metadata": {
    "collapsed": true
   },
   "outputs": [],
   "source": [
    "#some fake data\n",
    "data_x = np.arange(0,100)\n",
    "data_y = 3*data_x\n",
    "data_y2 = data_x**2\n",
    "data_y3 = data_x + 20\n",
    "data_y4 = np.sqrt(data_x)"
   ]
  },
  {
   "cell_type": "code",
   "execution_count": null,
   "metadata": {},
   "outputs": [],
   "source": [
    "# multipanel plot example\n",
    "fig,((ax1,ax2),(ax3,ax4)) = plt.subplots(2, 2, figsize=(10,10))\n",
    "fig.suptitle('This is a title for my multipanel plot')\n",
    "ax1.plot(data_x, data_y, 'go')\n",
    "ax1.set_title('Figure 1 Title')\n",
    "ax1.set_xlabel('x label')\n",
    "ax1.set_ylabel('y label')\n",
    "ax2.plot(data_x, data_y2, 'bo')\n",
    "ax2.set_title('Figure 2 Title')\n",
    "ax2.set_xlabel('x label')\n",
    "ax2.set_ylabel('y label')\n",
    "ax3.plot(data_x, data_y3, 'ro')\n",
    "ax3.set_title('Figure 3 Title')\n",
    "ax3.set_xlabel('x label')\n",
    "ax3.set_ylabel('y label')\n",
    "ax4.plot(data_x, data_y4, 'mo')\n",
    "ax4.set_title('Figure 4 Title')\n",
    "ax4.set_xlabel('x label')\n",
    "ax4.set_ylabel('y label')"
   ]
  },
  {
   "cell_type": "code",
   "execution_count": null,
   "metadata": {},
   "outputs": [],
   "source": [
    "#overlay plot example\n",
    "fig,ax = plt.subplots(figsize=(10,10))\n",
    "plt.title('This is a title for my multipanel plot')\n",
    "ax.plot(data_x, data_y, 'go', label='legend entry 1', alpha=0.5)\n",
    "ax.plot(data_x, data_y2, 'bo', label='legend entry 2', alpha=0.5)\n",
    "ax.plot(data_x, data_y3, 'ro', label='legend entry 2', alpha=0.5)\n",
    "ax.plot(data_x, data_y4, 'mo', label='legend entry 2', alpha=0.5)\n",
    "ax.set_title('Figure Title')\n",
    "ax.set_xlabel('x label')\n",
    "ax.set_ylabel('y label')\n",
    "plt.legend(numpoints=1)\n",
    "#TRY EXECUTING WITH AND WITHOUT THE FOLLOWING LINE. HERE AND IN THE DATA YOU'LL BE PLOTTING, \n",
    "#A SUBJECTIVE DECISION MUST BE MADE ABOUT AXIS RANGES\n",
    "ax.set_ylim(0,200)"
   ]
  },
  {
   "cell_type": "markdown",
   "metadata": {},
   "source": [
    "<div class=\"alert alert-block alert-warning\">\n",
    "<b>Important Note:</b> Again, discuss in your group the best ways to make the data most legible and clear (point symbol, size, etc). Since we will also be plotting multi-panel plots, consider how (or if!) you should change the axes for each of the panels individually as well.\n",
    "</div>"
   ]
  },
  {
   "cell_type": "code",
   "execution_count": null,
   "metadata": {
    "collapsed": true
   },
   "outputs": [],
   "source": [
    "## In this cell, create your own overlay plot showing the different populations. Hint: You may want to plot the \n",
    "## sample with the most data points first."
   ]
  },
  {
   "cell_type": "code",
   "execution_count": null,
   "metadata": {
    "collapsed": true
   },
   "outputs": [],
   "source": [
    "## In this cell, create a multi-panel plot for the different populations."
   ]
  },
  {
   "cell_type": "markdown",
   "metadata": {},
   "source": [
    "# Exercise 3 (Comprehension Questions)\n",
    "\n",
    "1) Describe the differences between the H-R diagrams. Do this both qualitatively (note differences in their appearance) and quantitatively. You might find methods like .min and .max to be useful here.\n",
    "\n",
    "2) Which of the four groups of stars has stars that are NOT on the main sequence, and which don't? Why, do you think?\n",
    "\n",
    "3) Why do you think the low temperature (M-dwarf) end of the main sequence cuts off at such a different place in the four samples? Do you think this is a physical effect or an instrumental one and why?\n",
    "\n",
    "4) Why do you think there are no white dwarfs in any of the samples besides the field sample?"
   ]
  },
  {
   "cell_type": "code",
   "execution_count": null,
   "metadata": {
    "collapsed": true
   },
   "outputs": [],
   "source": [
    "## Convert this cell to Markdown, and provide your group answers to each of the four questions here.\n",
    "\n"
   ]
  },
  {
   "cell_type": "markdown",
   "metadata": {},
   "source": [
    "### Before Submitting:\n",
    "\n",
    "** 1) Clear all output (Kernel menu -> Restart and Clear Output).**\n",
    "\n",
    "** 2) Then try running everything in one go (Cell menu -> Run All).**\n",
    "\n",
    "Make sure the entire notebook runs from start to finish. If necessary, comment out any un-executable cells from the worked portion of the lab so the whole notebook will execute in one go. \n",
    "\n",
    "** 3) Then restart kernel and clear all output again and save the notebook.**\n",
    "\n",
    "** 4) Save the notebook in the format Lastnames_Assignment.ipynb  (e.g., SmithWalsh_Lab1.ipynb) including all last names for group members.**"
   ]
  }
 ],
 "metadata": {
  "anaconda-cloud": {},
  "kernelspec": {
   "display_name": "Python 3",
   "language": "python",
   "name": "python3"
  },
  "language_info": {
   "codemirror_mode": {
    "name": "ipython",
    "version": 3
   },
   "file_extension": ".py",
   "mimetype": "text/x-python",
   "name": "python",
   "nbconvert_exporter": "python",
   "pygments_lexer": "ipython3",
   "version": "3.6.2"
  }
 },
 "nbformat": 4,
 "nbformat_minor": 1
}
