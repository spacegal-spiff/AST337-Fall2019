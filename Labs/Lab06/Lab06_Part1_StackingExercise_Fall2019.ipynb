{
 "cells": [
  {
   "cell_type": "markdown",
   "metadata": {},
   "source": [
    "## Align and stack previously reduced science data\n",
    "\n",
    "### Written and revised (2016-2019) by J. Lowenthal, M. Petersen, K. Ward-Duong \n",
    "\n",
    "#### Please use your own reduced B, V, and R band images for this lab; if needed, backups are otherwise located at the following link:\n",
    "https://drive.google.com/drive/u/1/folders/1GxsCM49WmZqgCrJ65KtAY965mrxe_zrB\n",
    "\n",
    "____\n",
    "### Lab Group Names:\n",
    "___"
   ]
  },
  {
   "cell_type": "code",
   "execution_count": null,
   "metadata": {
    "collapsed": true,
    "jupyter": {
     "outputs_hidden": true
    }
   },
   "outputs": [],
   "source": [
    "# Define the list of target(s) and the filter(s) you would like to align.\n",
    "targs =['NGC6853']\n",
    "\n",
    "filters=['Blue','Visual','Red']  # In order of increasing wavelength: BGR, not RGB\n",
    "\n",
    "# Provide the path to your data directory, the folder with your individual reduced science images:\n",
    "# The path format should be the absolute path, e.g., \"/Users/StudentName/AST337/MyData\" (note there is no '/' at the end!)\n",
    "datadir ="
   ]
  },
  {
   "cell_type": "code",
   "execution_count": null,
   "metadata": {},
   "outputs": [],
   "source": [
    "%matplotlib inline\n",
    "import numpy as np\n",
    "import matplotlib.pyplot as plt\n",
    "import astropy\n",
    "from astropy.io import fits\n",
    "import matplotlib.cm as cm\n",
    "import scipy.signal\n",
    "import glob\n",
    "import os\n",
    "from astropy.stats import sigma_clip\n",
    "import time"
   ]
  },
  {
   "cell_type": "markdown",
   "metadata": {},
   "source": [
    "### 1) Function definition to calculate cross-correlation between two images and measure x,y offsets."
   ]
  },
  {
   "cell_type": "code",
   "execution_count": null,
   "metadata": {
    "collapsed": true,
    "jupyter": {
     "outputs_hidden": true
    }
   },
   "outputs": [],
   "source": [
    "def cross_image(im1, im2, **kwargs):\n",
    "    \"\"\"\n",
    "    Replace this with your own docstring that describes the inputs and methods used in the cross_image function. \n",
    "    Also complete any unfinished code and unfinished comments below.\n",
    "    \"\"\"\n",
    "    \n",
    "    # The type cast into 'float' is to avoid overflows:\n",
    "    im1_gray = im1.astype('float')\n",
    "    im2_gray = im2.astype('float')\n",
    "\n",
    "    # Enable a trimming capability using keyword argument option.\n",
    "    if 'boxsize' in kwargs:\n",
    "        im1_gray = im1_gray[0:kwargs['boxsize'],0:kwargs['boxsize']]\n",
    "        im2_gray = im2_gray[0:kwargs['boxsize'],0:kwargs['boxsize']]\n",
    "\n",
    "    # Subtract the averages of im1_gray and im2_gray from their respective arrays -- cross-correlation\n",
    "    # works better that way.\n",
    "    # Complete the following two lines:\n",
    "    im1_gray -= \n",
    "    im2_gray -= \n",
    "\n",
    "    # Calculate the correlation image using fast Fourier transform (FFT)\n",
    "    # Note the flipping of one of the images (the [::-1]) - this is how the convolution is done.\n",
    "    corr_image = scipy.signal.fftconvolve(im1_gray, im2_gray[::-1,::-1], mode='same')\n",
    "    \n",
    "    # To determine the location of the peak value in the cross-correlated image, complete the line below,\n",
    "    # using np.argmax on the correlation image:\n",
    "    peak_corr_index = \n",
    "\n",
    "    # Find the peak signal position in the cross-correlation -- this gives the shift between the images.\n",
    "    corr_tuple = np.unravel_index(peak_corr_index, corr_image.shape)\n",
    "    \n",
    "    # Calculate shifts (not cast to integer, but could be).\n",
    "    xshift = corr_tuple[0] - corr_image.shape[0]/2.\n",
    "    yshift = corr_tuple[1] - corr_image.shape[1]/2.\n",
    "\n",
    "    return xshift,yshift"
   ]
  },
  {
   "cell_type": "code",
   "execution_count": null,
   "metadata": {},
   "outputs": [],
   "source": [
    "# Use this cell to look up the doc strings for any unfamiliar functions, e.g.,\n",
    "scipy.signal.fftconvolve?\n",
    "\n",
    "# You can also read more and see examples of Fourier transforms applied to images here:\n",
    "# https://www.cs.unm.edu/~brayer/vision/fourier.html"
   ]
  },
  {
   "cell_type": "markdown",
   "metadata": {},
   "source": [
    "### Questions:\n",
    "\n",
    "What does np.unravel_index do?  \n",
    "**Answer**: \n",
    "\n",
    "What kinds of python objects are corr_tuple and corr_image? That is, what kinds of objects are the outputs of scipy.signal.fftconvolve and np.unravel_index?  \n",
    "**Answer**: "
   ]
  },
  {
   "cell_type": "code",
   "execution_count": null,
   "metadata": {},
   "outputs": [],
   "source": [
    "# Extra cell for testing code, looking up docstrings, etc:\n"
   ]
  },
  {
   "cell_type": "markdown",
   "metadata": {},
   "source": [
    "### 2) Definition to shift (\"roll\" pixels in) image."
   ]
  },
  {
   "cell_type": "code",
   "execution_count": null,
   "metadata": {
    "collapsed": true,
    "jupyter": {
     "outputs_hidden": true
    }
   },
   "outputs": [],
   "source": [
    "def shift_image(image,xshift,yshift):\n",
    "    '''\n",
    "    Replace this with your own docstring that describes the inputs and operations applied in the shift_image function. \n",
    "    '''\n",
    "    # Note that this will not do any trimming, \n",
    "    # so we'll want to  trim later the edges of the image using the maximum shift.\n",
    "    return np.roll(np.roll(image,int(yshift),axis=1), int(xshift), axis=0)"
   ]
  },
  {
   "cell_type": "markdown",
   "metadata": {},
   "source": [
    "### Questions:\n",
    "How does np.roll shift the image?  \n",
    "**Answer**: \n",
    "\n",
    "Why might we want the ability to trim a shifted image?  \n",
    "**Answer**: "
   ]
  },
  {
   "cell_type": "code",
   "execution_count": null,
   "metadata": {},
   "outputs": [],
   "source": [
    "# Cycle through list of targets:\n",
    "\n",
    "for targname in targs:\n",
    "    print(' ')\n",
    "    print('-----------------------------')      \n",
    "    print('target: ', targname)\n",
    "    print('-----------------------------')      \n",
    "\n",
    "    # Using glob, make list of all reduced images of current target in all filters.\n",
    "    # Complete the following line to create a list of the correct images to be shifted (use wildcards!):\n",
    "    imlist = \n",
    "    \n",
    "    # Check to make sure that your new list has the right files:\n",
    "    print(\"All files to be aligned: \\n\", imlist)\n",
    "    print('\\n') # adding some space to the print statements, '/n' means new line\n",
    "    \n",
    "    # Open first image = master image; all other images of same target will be aligned to this one.\n",
    "    im1,hdr1 = fits.getdata(imlist[0],header=True)\n",
    "    print(\"Aligning all images to:\", imlist[0])\n",
    "    \n",
    "    print('\\n') # adding some space to the print statements\n",
    "\n",
    "    # What is the following for loop doing?\n",
    "    # Your answer:\n",
    "    \n",
    "    xshifts = {}\n",
    "    yshifts = {}\n",
    "    for index,filename in enumerate(imlist):\n",
    "        im,hdr = fits.getdata(filename,header=True)\n",
    "        xshifts[index], yshifts[index] = cross_image(im1, im, boxsize=1000)\n",
    "        print(\"Shift for image\", index, \"is\", xshifts[index], yshifts[index])\n",
    "\n",
    "    # Calculate trim edges of new median stacked images so all stacked images of each target have same size \n",
    "    max_x_shift = int(np.max([xshifts[x] for x in xshifts.keys()]))\n",
    "    max_y_shift = int(np.max([yshifts[x] for x in yshifts.keys()]))\n",
    "\n",
    "    print('   Max x-shift={0}, max y-shift={1} (pixels)'.format(max_x_shift,max_y_shift))\n",
    "\n",
    "\n",
    "    # Cycle through list of filters\n",
    "    for filtername in filters:\n",
    "        # Write a for-loop + if-statement to create a list of FITS files matching *only* the selected filter:\n",
    "        scilist = []\n",
    "        for fitsfile in imlist:\n",
    " \n",
    "        \n",
    "        if len(scilist) < 1:\n",
    "            print(\"Warning! No files in scilist. Your path is likely incorrect.\")\n",
    "            break\n",
    "        \n",
    "        # Complete the print statement below including the filename & ensuring each scilist entry has the right filter:\n",
    "        for fitsfile in scilist:\n",
    "            print(\n",
    "        \n",
    "        nfiles = len(scilist)\n",
    "        print('Stacking ', nfiles, filtername, ' science frames')\n",
    "\n",
    "        # Define new array with same size as master image\n",
    "        image_stack = np.zeros([im1.shape[0],im1.shape[1],len(scilist)])\n",
    "\n",
    "        # Now that we have created an \"empty\" array, what is the following for loop doing?\n",
    "        # Your answer: \n",
    "        \n",
    "        xshifts_filt = {}\n",
    "        yshifts_filt = {}\n",
    "        for index,filename in enumerate(scilist):\n",
    "            im,hdr = fits.getdata(filename,header=True)\n",
    "            xshifts_filt[index], yshifts_filt[index] = cross_image(im1, im, boxsize=1000)\n",
    "            image_stack[:,:,index] = shift_image(im,xshifts_filt[index], yshifts_filt[index])\n",
    "\n",
    "        # Complete the line below to take the median of the image stack (median combine the stacked images);\n",
    "        # Be careful to use the correct 'axis' keyword in the np.median function!\n",
    "        median_image = np.median(\n",
    "\n",
    "        # Sets the new image boundaries\n",
    "        if (max_x_shift > 0) & (max_y_shift > 0): # don't apply cut if no shift!\n",
    "            median_image = median_image[max_x_shift:-max_x_shift,max_y_shift:-max_y_shift]\n",
    "\n",
    "        # Make a new directory in your datadir for the new stacked fits files\n",
    "        if os.path.isdir(datadir + '/Stacked') == False:\n",
    "            os.mkdir(datadir + '/Stacked')\n",
    "            print('\\n Making new subdirectory for stacked images:', datadir + '/Stacked \\n')\n",
    "            \n",
    "        \n",
    "        # Save the final stacked images into your new folder:\n",
    "        fits.writeto(datadir + '/Stacked/' + targname + '_' + filtername + 'stack.fits', median_image, overwrite=True)\n",
    "        print('   Wrote FITS file ',targname+'_'+filtername+'stack.fits', 'in ',datadir + '/Stacked/','\\n')\n",
    "        \n",
    "print('\\n Done stacking!')\n"
   ]
  }
 ],
 "metadata": {
  "kernelspec": {
   "display_name": "Python 3",
   "language": "python",
   "name": "python3"
  },
  "language_info": {
   "codemirror_mode": {
    "name": "ipython",
    "version": 3
   },
   "file_extension": ".py",
   "mimetype": "text/x-python",
   "name": "python",
   "nbconvert_exporter": "python",
   "pygments_lexer": "ipython3",
   "version": "3.7.4"
  }
 },
 "nbformat": 4,
 "nbformat_minor": 4
}
