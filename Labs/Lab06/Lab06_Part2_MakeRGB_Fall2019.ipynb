{
 "cells": [
  {
   "cell_type": "markdown",
   "metadata": {},
   "source": [
    "## Make RGB jpeg image from previously stacked and aligned FITS images\n",
    "\n",
    "### Written and revised (2016-2019) by J. Lowenthal, M. Petersen, K. Ward-Duong "
   ]
  },
  {
   "cell_type": "code",
   "execution_count": null,
   "metadata": {},
   "outputs": [],
   "source": [
    "%matplotlib inline\n",
    "import matplotlib.pyplot as plt\n",
    "import numpy as np\n",
    "from astropy.io import fits\n",
    "from astropy import stats\n",
    "from PIL import Image"
   ]
  },
  {
   "cell_type": "code",
   "execution_count": null,
   "metadata": {},
   "outputs": [],
   "source": [
    "# EDIT AS NEEDED\n",
    "\n",
    "targname =['NGC6853']\n",
    "\n",
    "filters=['Blue','Visual','Red']  # In order of increasing wavelength: BGR, not RGB\n",
    "\n",
    "# Provide the path to your data directory, the folder with your *stacked* reduced science images:\n",
    "# The path format should be the absolute path, e.g., \"/Users/StudentName/AST337/MyData/Stacked/\" \n",
    "\n",
    "# (note there IS a '/' at the end this time!)\n",
    "datadir = \n",
    "\n",
    "siglowhi = [-0.5,20.,-0.5,20.,-0.5,20.] # BGR low and high sigma limits. Ex: To make red brighter, make 6th # lower."
   ]
  },
  {
   "cell_type": "code",
   "execution_count": null,
   "metadata": {},
   "outputs": [],
   "source": [
    "Rtmp = fits.getdata(datadir+targname[0]+'_'+filters[2]+'stack.fits')\n",
    "print(np.mean(Rtmp))\n",
    "print(datadir+targname[0]+'_'+filters[2]+'stack.fits')"
   ]
  },
  {
   "cell_type": "code",
   "execution_count": null,
   "metadata": {},
   "outputs": [],
   "source": [
    "def scale_filter(tmpimg,lowsig=-1.,highsig=15.):\n",
    "\n",
    "    tmpimg -= np.nanmedian(tmpimg)\n",
    "    print('minmax 1: ', np.nanmin(tmpimg),np.nanmax(tmpimg))\n",
    "\n",
    "\n",
    "    tmpsig = stats.sigma_clipped_stats(tmpimg, sigma=2, iters=5)[2]\n",
    "    print('std: ', tmpsig)\n",
    "    print(\"lowsig, highsig: \", lowsig, highsig)\n",
    "    print('cuts: ', lowsig*tmpsig, highsig*tmpsig)\n",
    "\n",
    "    image_hist = plt.hist(tmpimg.flatten(), 1000, range=[-100,100])\n",
    "\n",
    "    # apply thresholding\n",
    "    tmpimg[np.where(tmpimg < lowsig*tmpsig)] = lowsig*tmpsig\n",
    "    tmpimg[np.where(tmpimg > highsig*tmpsig)] = highsig*tmpsig\n",
    "    print('minmax 2: ', np.nanmin(tmpimg),np.nanmax(tmpimg))\n",
    "\n",
    "    # double hyperbolic arcsin scaling\n",
    "    tmpimg = np.arcsinh(tmpimg)\n",
    "    print('minmax 3: ', np.nanmin(tmpimg),np.nanmax(tmpimg))\n",
    "\n",
    "    # scale to [0,255]\n",
    "    tmpimg += np.nanmin(tmpimg)\n",
    "    tmpimg *= 255./np.nanmax(tmpimg)\n",
    "    tmpimg[np.where(tmpimg < 0.)] = 0.\n",
    "    print('minmax 4: ', np.nanmin(tmpimg),np.nanmax(tmpimg))\n",
    "    \n",
    "    # recast as unsigned integers for jpeg writer\n",
    "    IMG = Image.fromarray(np.uint8(tmpimg))\n",
    "    \n",
    "    print(\"\")\n",
    "    \n",
    "    return IMG\n",
    "\n",
    "# Read in 3 images \n",
    "Rtmp = fits.getdata(datadir+targname[0]+'_'+filters[2]+'stack.fits')\n",
    "Gtmp = fits.getdata(datadir+targname[0]+'_'+filters[1]+'stack.fits')\n",
    "Btmp = fits.getdata(datadir+targname[0]+'_'+filters[0]+'stack.fits')\n",
    "\n",
    "# Scale all 3 images\n",
    "print('Calculating stats....')\n",
    "R = scale_filter(Rtmp,lowsig=siglowhi[4],highsig=siglowhi[5])\n",
    "G = scale_filter(Gtmp,lowsig=siglowhi[2],highsig=siglowhi[3])\n",
    "B = scale_filter(Btmp,lowsig=siglowhi[0],highsig=siglowhi[1])\n",
    "\n",
    "# Merge 3 images into one RGB image\n",
    "im = Image.merge(\"RGB\", (R,G,B))\n",
    "\n",
    "im.save(datadir+targname[0]+'_RGB.jpg', \"JPEG\")\n",
    "print(\"Saved image as \", datadir+targname[0]+'_RGB.jpg')"
   ]
  },
  {
   "cell_type": "code",
   "execution_count": null,
   "metadata": {},
   "outputs": [],
   "source": []
  }
 ],
 "metadata": {
  "kernelspec": {
   "display_name": "Python 3",
   "language": "python",
   "name": "python3"
  },
  "language_info": {
   "codemirror_mode": {
    "name": "ipython",
    "version": 3
   },
   "file_extension": ".py",
   "mimetype": "text/x-python",
   "name": "python",
   "nbconvert_exporter": "python",
   "pygments_lexer": "ipython3",
   "version": "3.7.4"
  }
 },
 "nbformat": 4,
 "nbformat_minor": 4
}
