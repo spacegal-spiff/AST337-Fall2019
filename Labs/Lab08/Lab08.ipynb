{
 "cells": [
  {
   "cell_type": "code",
   "execution_count": null,
   "metadata": {
    "collapsed": true
   },
   "outputs": [],
   "source": [
    "# The standard fare:\n",
    "import numpy as np\n",
    "import matplotlib.pyplot as plt\n",
    "import pandas as pd\n",
    "%matplotlib inline\n",
    "from astropy.io import fits \n",
    "import astropy.stats as stat\n",
    "\n",
    "from photutils import aperture_photometry, CircularAperture, CircularAnnulus, DAOStarFinder"
   ]
  },
  {
   "cell_type": "markdown",
   "metadata": {},
   "source": [
    "# Lab 8 - Aperture Photometry with Python Photutils\n",
    "\n",
    "## 8.1 - Getting Started\n",
    "\n",
    "The goal of this lab is to teach you how to extract aperture photometry for all of the stars in a given image. Although the extraction itself is automated, there is some art to setting the parameters for extraction, and this lab is designed to teach you to choose these in an intelligent, data-driven way. \n",
    "\n",
    "To start we need to read in a raw image to work with. "
   ]
  },
  {
   "cell_type": "code",
   "execution_count": null,
   "metadata": {
    "collapsed": true
   },
   "outputs": [],
   "source": [
    "# As an example, let's load in a familiar Amherst V band image\n",
    "image = fits.getdata('NGC6853_Vstack.fits')"
   ]
  },
  {
   "cell_type": "markdown",
   "metadata": {},
   "source": [
    "We will be using a python package called photutils, which is based on an old IRAF package of the same name. One of the key functions within this package is the DAOStarFinder function, which we'll just call \"the star finder\" here.\n",
    "\n",
    "The star finder will extract sources, defined as some multiple (which you provide) of the background/sky level, so first we need to get a reasonable estimate of the background level. This is done using the function mad_std from the astropy.stats package, as below. "
   ]
  },
  {
   "cell_type": "code",
   "execution_count": null,
   "metadata": {
    "collapsed": true
   },
   "outputs": [],
   "source": [
    "from astropy.stats import mad_std\n",
    "bkg_sigma = mad_std(image)\n",
    "print(bkg_sigma)"
   ]
  },
  {
   "cell_type": "code",
   "execution_count": null,
   "metadata": {
    "collapsed": true
   },
   "outputs": [],
   "source": [
    "print(np.std(image))"
   ]
  },
  {
   "cell_type": "markdown",
   "metadata": {},
   "source": [
    "### Exercise 1. Use the resources (docstrings, wikipedia, other functions) at your disposal to answer the following questions in the cell below.  \n",
    "1. The median absolute deviation (MAD) gives an alternative estimate of the spread in a dataset, and is not sensitive to outliers. Why would this be useful to estimate the background level of our image?\n",
    "2. How is np.mad_std different from the more typical np.std function? How different are the answers in these two cases, and why?  "
   ]
  },
  {
   "cell_type": "markdown",
   "metadata": {},
   "source": [
    "***Your answers go here***"
   ]
  },
  {
   "cell_type": "markdown",
   "metadata": {},
   "source": [
    "## 8.2 - Extracting Stars\n",
    "\n",
    "The star finder requires two parameters to extract stars in the image:  \n",
    "\n",
    "1) The threshhold, which we will define as some number of background levels, above which we will call something a star    \n",
    "2) An estimate for the FWHM of point-sources (stars) in the image  \n",
    "\n",
    "### Exercise 2\n",
    "To start, estimate the FWHM of the stars in your image using pyraf's imexam functions, as you did in Lab 8. Measure the FWHM for at least 10 stars and average them. In the cell below, paste the imexam output and calculate the average of the measurements in the cell below that. Insert your calculated average FWHM in the third cell below.  "
   ]
  },
  {
   "cell_type": "markdown",
   "metadata": {},
   "source": [
    "***insert imexam output here***"
   ]
  },
  {
   "cell_type": "code",
   "execution_count": null,
   "metadata": {
    "collapsed": true
   },
   "outputs": [],
   "source": [
    "# Insert calculation of average FWHM here"
   ]
  },
  {
   "cell_type": "code",
   "execution_count": null,
   "metadata": {
    "collapsed": true
   },
   "outputs": [],
   "source": [
    "# FWHM = this is a placeholder. INSERT YOUR VALUE IN PLACE OF 10 BELOW\n",
    "FWHM = 10"
   ]
  },
  {
   "cell_type": "markdown",
   "metadata": {},
   "source": [
    "We also need to set the threshhold (described above) for star finder, which we define as some multiple (nsigma) of the background level. To start, let's set nsigma to 10, meaning that in order for somehting to be considered a star, it must have at least 10x the detector counts of the background level. \n",
    "\n",
    "The next several lines below set up the parameters for the star finder (by specifying the FWHM and threshhold parameters), apply the star finder to the image, and then extract and print the number of sources."
   ]
  },
  {
   "cell_type": "code",
   "execution_count": null,
   "metadata": {
    "collapsed": true
   },
   "outputs": [],
   "source": [
    "nsigma = 10\n",
    "daofind = DAOStarFinder(fwhm=FWHM, threshold=nsigma*bkg_sigma)\n",
    "sources = daofind(image)\n",
    "nstars = len(sources)\n",
    "nstars"
   ]
  },
  {
   "cell_type": "markdown",
   "metadata": {},
   "source": [
    "To check how well we're doing here, we need to be able to see how the sources that were automatically extracted line up with apparent sources in the image. To do so, we are going to write the information that star finder extracted from the sources it found into a DS9 region file, so that we can load it with the image. DS9 region files are text files where each line contains the following basic info:  \n",
    "regiontype xcen ycen FWHM  \n",
    "\n",
    "The code below writes the relevant outpt from daofind into a text file with this format. "
   ]
  },
  {
   "cell_type": "code",
   "execution_count": null,
   "metadata": {
    "collapsed": true
   },
   "outputs": [],
   "source": [
    "xpos = np.array(sources['xcentroid'])\n",
    "ypos = np.array(sources['ycentroid'])\n",
    "\n",
    "# Note that you will need to change the first input (string) in the open function in the line below, \n",
    "# if you want to save to a different filename later. The 'w' signifies you are writing (updating) the file.\n",
    "\n",
    "f = open('M27_V.reg', 'w') \n",
    "\n",
    "for i in range(0,len(xpos)):\n",
    "    f.write('circle '+str(xpos[i])+' '+str(ypos[i])+' '+str(FWHM)+'\\n')\n",
    "f.close()"
   ]
  },
  {
   "cell_type": "markdown",
   "metadata": {},
   "source": [
    "To display this region file, you should open the science image in DS9, then click Region --> Load Regions and navigate to the .reg file above. When you load it, you will see green circles appear on top of all of the stars that the Star Finder has extracted. Place a screenshot of this overlay in the cell below. "
   ]
  },
  {
   "cell_type": "markdown",
   "metadata": {},
   "source": [
    "***DS9 screenshot goes here***"
   ]
  },
  {
   "cell_type": "markdown",
   "metadata": {},
   "source": [
    "### Exercise 3 \n",
    "\n",
    "Using **two of the B, V, or R standard star images that you generated for Homework 8**, answer the following questions. Include code, screenshots, etc. to support your argument, and add cells below as needed to do calculations, generate new region files, etc.  \n",
    "\n",
    "1) How many sources can you extract at different wavelengths (e.g., V and R) for nsigma=10 from your reduced images? How much does the number of sources vary between the two wavelengths and why, do you think?  \n",
    "\n",
    "*Hint: A good example could include a source that was identified in one image and not the other. Remember you can load multiple images in DS9, and can load a separate region file in each. Zoom in on your discrepant source. To match the zoom level and location between the two images, select Frame --> Match --> Frame --> Physical.*  \n",
    "\n",
    "2) For one of your images (B, V, or R), discuss how the number of extracted sources changes when you change the nsigma threshhold. Make an argument based on the images for what you think the most reasonable limit is for this data.    "
   ]
  },
  {
   "cell_type": "markdown",
   "metadata": {},
   "source": [
    "#### 1. Problem 1 explanation and images go here"
   ]
  },
  {
   "cell_type": "code",
   "execution_count": null,
   "metadata": {
    "collapsed": true
   },
   "outputs": [],
   "source": [
    "# Problem 1 code goes here"
   ]
  },
  {
   "cell_type": "markdown",
   "metadata": {},
   "source": [
    "#### 2. Problem 2 explanation and images go here"
   ]
  },
  {
   "cell_type": "code",
   "execution_count": null,
   "metadata": {
    "collapsed": true
   },
   "outputs": [],
   "source": [
    "# Problem 2 code goes here"
   ]
  },
  {
   "cell_type": "markdown",
   "metadata": {},
   "source": [
    "## 8.3 - Aperture Photometry\n",
    "\n",
    "The next step is to actually extract the photometry, and here too there is some art to choosing parameters. Although photutils will extract the photometry for each star in an automated way, you need to intelligently choose the parameters based on your data.  \n",
    "\n",
    "The tunable parameters are:\n",
    "1. the aperture radius inside of which to count the flux from the star\n",
    "2. the inner and outer radius of the sky aperture. The annulus defined by these two numbers needs to be large enough to get a good measurement of the background level, but small enough to generally avoid confusion with other nearby sources. \n",
    "\n",
    "We'll start with some potentially reasonable values for these parameters. "
   ]
  },
  {
   "cell_type": "code",
   "execution_count": null,
   "metadata": {
    "collapsed": true
   },
   "outputs": [],
   "source": [
    "aprad = 8\n",
    "skyin = 10\n",
    "skyout = 15"
   ]
  },
  {
   "cell_type": "markdown",
   "metadata": {},
   "source": [
    "### Exercise 4\n",
    "\n",
    "For each of the next two cells, write a comment describing what each line is doing in the line above it. "
   ]
  },
  {
   "cell_type": "code",
   "execution_count": null,
   "metadata": {
    "collapsed": true
   },
   "outputs": [],
   "source": [
    "# add your own comments to this cell\n",
    "\n",
    "starapertures = CircularAperture((xpos,ypos),r=aprad)\n",
    "skyannuli = CircularAnnulus((xpos,ypos),r_in=skyin,r_out=skyout)\n",
    "phot_apers = [starapertures, skyannuli]\n",
    "phot_table = aperture_photometry(image,phot_apers)\n",
    "phot_table"
   ]
  },
  {
   "cell_type": "code",
   "execution_count": null,
   "metadata": {
    "collapsed": true
   },
   "outputs": [],
   "source": [
    "# add your own comments to this cell\n",
    "\n",
    "bkg_mean = phot_table['aperture_sum_1']/skyannuli.area()\n",
    "bkg_starap_sum = bkg_mean * starapertures.area()\n",
    "final_sum = phot_table['aperture_sum_0']-bkg_starap_sum\n",
    "phot_table['background subtracted star counts'] = final_sum\n",
    "phot_table"
   ]
  },
  {
   "cell_type": "markdown",
   "metadata": {},
   "source": [
    "### Exercise 5\n",
    "\n",
    "Spend the rest of the lab time investigating what changes about the photometric measurement (background subtracted sky counts caluclated column) when you adjust the tunable parameters (aperture radius and inner/outer sky annulus) and report your findings below. You may wish to examine only a handful of stars in the table (to print just a few rows of a table, see the example below), but make sure the rows you select include stars with a range of brightnesses. You may also wish to make separate versions/copies of the table with different aperture parameters so that you can compare without overwriting. Think in particular about crowded fields and see if you can derive the best parameters for this case as well (identify things in the table with very close values for xcenter and ycenter to find these crowded regions). "
   ]
  },
  {
   "cell_type": "code",
   "execution_count": null,
   "metadata": {
    "collapsed": true
   },
   "outputs": [],
   "source": [
    "# Example of printing just a few rows in a table:\n",
    "phot_table[6:8]"
   ]
  }
 ],
 "metadata": {
  "anaconda-cloud": {},
  "kernelspec": {
   "display_name": "Python 2",
   "language": "python",
   "name": "python2"
  },
  "language_info": {
   "codemirror_mode": {
    "name": "ipython",
    "version": 2
   },
   "file_extension": ".py",
   "mimetype": "text/x-python",
   "name": "python",
   "nbconvert_exporter": "python",
   "pygments_lexer": "ipython2",
   "version": "2.7.6"
  }
 },
 "nbformat": 4,
 "nbformat_minor": 1
}
